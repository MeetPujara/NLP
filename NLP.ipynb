{
 "cells": [
  {
   "cell_type": "code",
   "execution_count": 47,
   "metadata": {
    "executionInfo": {
     "elapsed": 25,
     "status": "ok",
     "timestamp": 1753709784648,
     "user": {
      "displayName": "Meet Pujara",
      "userId": "14766160020466493026"
     },
     "user_tz": -330
    },
    "id": "bIImLw---zB-"
   },
   "outputs": [],
   "source": [
    "import numpy as np\n",
    "import pandas as pd\n",
    "import string\n",
    "import nltk\n",
    "from nltk.corpus import stopwords\n",
    "from nltk.tokenize import word_tokenize\n",
    "from sklearn.feature_extraction.text import CountVectorizer\n",
    "from sklearn.feature_extraction.text import TfidfVectorizer\n",
    "from sklearn.model_selection import train_test_split\n",
    "from sklearn.linear_model import LogisticRegression\n",
    "from sklearn.naive_bayes import MultinomialNB\n",
    "from sklearn.svm import SVC\n",
    "from sklearn.metrics import accuracy_score\n",
    "import joblib\n",
    "import os"
   ]
  },
  {
   "cell_type": "code",
   "execution_count": 48,
   "metadata": {
    "executionInfo": {
     "elapsed": 16,
     "status": "ok",
     "timestamp": 1753709784673,
     "user": {
      "displayName": "Meet Pujara",
      "userId": "14766160020466493026"
     },
     "user_tz": -330
    },
    "id": "dl9VrYMF_MTD"
   },
   "outputs": [],
   "source": [
    "df = pd.read_csv('train.txt',sep=';',header=None,names = ['text','emotion'])"
   ]
  },
  {
   "cell_type": "code",
   "execution_count": 49,
   "metadata": {
    "colab": {
     "base_uri": "https://localhost:8080/",
     "height": 206
    },
    "executionInfo": {
     "elapsed": 101,
     "status": "ok",
     "timestamp": 1753709784789,
     "user": {
      "displayName": "Meet Pujara",
      "userId": "14766160020466493026"
     },
     "user_tz": -330
    },
    "id": "VC1-zl1A_v7p",
    "outputId": "7c92a026-a680-42ce-9d91-35c97dd1c68b"
   },
   "outputs": [
    {
     "data": {
      "text/html": [
       "<div>\n",
       "<style scoped>\n",
       "    .dataframe tbody tr th:only-of-type {\n",
       "        vertical-align: middle;\n",
       "    }\n",
       "\n",
       "    .dataframe tbody tr th {\n",
       "        vertical-align: top;\n",
       "    }\n",
       "\n",
       "    .dataframe thead th {\n",
       "        text-align: right;\n",
       "    }\n",
       "</style>\n",
       "<table border=\"1\" class=\"dataframe\">\n",
       "  <thead>\n",
       "    <tr style=\"text-align: right;\">\n",
       "      <th></th>\n",
       "      <th>text</th>\n",
       "      <th>emotion</th>\n",
       "    </tr>\n",
       "  </thead>\n",
       "  <tbody>\n",
       "    <tr>\n",
       "      <th>0</th>\n",
       "      <td>i didnt feel humiliated</td>\n",
       "      <td>sadness</td>\n",
       "    </tr>\n",
       "    <tr>\n",
       "      <th>1</th>\n",
       "      <td>i can go from feeling so hopeless to so damned...</td>\n",
       "      <td>sadness</td>\n",
       "    </tr>\n",
       "    <tr>\n",
       "      <th>2</th>\n",
       "      <td>im grabbing a minute to post i feel greedy wrong</td>\n",
       "      <td>anger</td>\n",
       "    </tr>\n",
       "    <tr>\n",
       "      <th>3</th>\n",
       "      <td>i am ever feeling nostalgic about the fireplac...</td>\n",
       "      <td>love</td>\n",
       "    </tr>\n",
       "    <tr>\n",
       "      <th>4</th>\n",
       "      <td>i am feeling grouchy</td>\n",
       "      <td>anger</td>\n",
       "    </tr>\n",
       "  </tbody>\n",
       "</table>\n",
       "</div>"
      ],
      "text/plain": [
       "                                                text  emotion\n",
       "0                            i didnt feel humiliated  sadness\n",
       "1  i can go from feeling so hopeless to so damned...  sadness\n",
       "2   im grabbing a minute to post i feel greedy wrong    anger\n",
       "3  i am ever feeling nostalgic about the fireplac...     love\n",
       "4                               i am feeling grouchy    anger"
      ]
     },
     "execution_count": 49,
     "metadata": {},
     "output_type": "execute_result"
    }
   ],
   "source": [
    "df.head()"
   ]
  },
  {
   "cell_type": "code",
   "execution_count": 50,
   "metadata": {
    "colab": {
     "base_uri": "https://localhost:8080/",
     "height": 146
    },
    "executionInfo": {
     "elapsed": 22,
     "status": "ok",
     "timestamp": 1753709784791,
     "user": {
      "displayName": "Meet Pujara",
      "userId": "14766160020466493026"
     },
     "user_tz": -330
    },
    "id": "wDU70z2Q_xsd",
    "outputId": "43163f36-9a52-46f0-c009-d475d859dfdb"
   },
   "outputs": [
    {
     "data": {
      "text/plain": [
       "text       0\n",
       "emotion    0\n",
       "dtype: int64"
      ]
     },
     "execution_count": 50,
     "metadata": {},
     "output_type": "execute_result"
    }
   ],
   "source": [
    "df.isnull().sum()"
   ]
  },
  {
   "cell_type": "code",
   "execution_count": 51,
   "metadata": {},
   "outputs": [],
   "source": [
    "emotion_numbers = {\n",
    "    'joy': 0,\n",
    "    'fear': 1,\n",
    "    'anger': 2,\n",
    "    'sadness': 3,\n",
    "    'surprise': 4,\n",
    "    'love': 5\n",
    "}\n",
    "joblib.dump(emotion_numbers, 'label_mapping.pkl')  # Save for Streamlit UI\n",
    "df['emotion'] = df['emotion'].map(emotion_numbers)  # Apply to your DataFrame"
   ]
  },
  {
   "cell_type": "code",
   "execution_count": 52,
   "metadata": {
    "executionInfo": {
     "elapsed": 13,
     "status": "ok",
     "timestamp": 1753709784794,
     "user": {
      "displayName": "Meet Pujara",
      "userId": "14766160020466493026"
     },
     "user_tz": -330
    },
    "id": "2XVdYGwIBZxD"
   },
   "outputs": [],
   "source": [
    "df['text'] = df['text'].apply(lambda x: x.lower())"
   ]
  },
  {
   "cell_type": "code",
   "execution_count": 53,
   "metadata": {
    "executionInfo": {
     "elapsed": 12,
     "status": "ok",
     "timestamp": 1753709784798,
     "user": {
      "displayName": "Meet Pujara",
      "userId": "14766160020466493026"
     },
     "user_tz": -330
    },
    "id": "xA4eaFU9BiKl"
   },
   "outputs": [],
   "source": [
    "def remove_punc(txt):\n",
    "  return txt.translate(str.maketrans('','',string.punctuation))"
   ]
  },
  {
   "cell_type": "code",
   "execution_count": 54,
   "metadata": {
    "executionInfo": {
     "elapsed": 47,
     "status": "ok",
     "timestamp": 1753709784843,
     "user": {
      "displayName": "Meet Pujara",
      "userId": "14766160020466493026"
     },
     "user_tz": -330
    },
    "id": "7DsCVOZ5CG4y"
   },
   "outputs": [],
   "source": [
    "df['text'] = df['text'].apply(remove_punc)"
   ]
  },
  {
   "cell_type": "code",
   "execution_count": 55,
   "metadata": {
    "executionInfo": {
     "elapsed": 172,
     "status": "ok",
     "timestamp": 1753709785023,
     "user": {
      "displayName": "Meet Pujara",
      "userId": "14766160020466493026"
     },
     "user_tz": -330
    },
    "id": "b2d49VryCLoC"
   },
   "outputs": [],
   "source": [
    "def remove_nums(txt):\n",
    "  new = ''\n",
    "  for i in txt:\n",
    "    if not i.isdigit():\n",
    "      new+=i\n",
    "  return new\n",
    "\n",
    "df['text'] = df['text'].apply(remove_nums)"
   ]
  },
  {
   "cell_type": "code",
   "execution_count": 56,
   "metadata": {
    "executionInfo": {
     "elapsed": 210,
     "status": "ok",
     "timestamp": 1753709785228,
     "user": {
      "displayName": "Meet Pujara",
      "userId": "14766160020466493026"
     },
     "user_tz": -330
    },
    "id": "jyOP9okRDZfV"
   },
   "outputs": [],
   "source": [
    "def remove_emojis(txt):\n",
    "    new = \"\"\n",
    "    for i in txt:\n",
    "        if i.isascii():\n",
    "            new += i\n",
    "    return new\n",
    "\n",
    "df['text'] = df['text'].apply(remove_emojis)"
   ]
  },
  {
   "cell_type": "code",
   "execution_count": 57,
   "metadata": {},
   "outputs": [],
   "source": [
    "nltk_data_dir = os.path.abspath('nltk_data')"
   ]
  },
  {
   "cell_type": "code",
   "execution_count": 58,
   "metadata": {},
   "outputs": [],
   "source": [
    "nltk.data.path.insert(0, nltk_data_dir)"
   ]
  },
  {
   "cell_type": "code",
   "execution_count": 59,
   "metadata": {
    "colab": {
     "base_uri": "https://localhost:8080/"
    },
    "executionInfo": {
     "elapsed": 38,
     "status": "ok",
     "timestamp": 1753709785229,
     "user": {
      "displayName": "Meet Pujara",
      "userId": "14766160020466493026"
     },
     "user_tz": -330
    },
    "id": "yDT1J-LyEX0d",
    "outputId": "d1b7eab2-5b16-4083-c263-079e4c356193"
   },
   "outputs": [
    {
     "name": "stderr",
     "output_type": "stream",
     "text": [
      "[nltk_data] Downloading package punkt to d:\\NLP\\nltk_data...\n",
      "[nltk_data]   Unzipping tokenizers\\punkt.zip.\n",
      "[nltk_data] Downloading package stopwords to d:\\NLP\\nltk_data...\n",
      "[nltk_data]   Unzipping corpora\\stopwords.zip.\n"
     ]
    },
    {
     "data": {
      "text/plain": [
       "True"
      ]
     },
     "execution_count": 59,
     "metadata": {},
     "output_type": "execute_result"
    }
   ],
   "source": [
    "nltk.download('punkt', download_dir=nltk_data_dir)\n",
    "nltk.download('stopwords', download_dir=nltk_data_dir)"
   ]
  },
  {
   "cell_type": "code",
   "execution_count": 60,
   "metadata": {
    "executionInfo": {
     "elapsed": 14,
     "status": "ok",
     "timestamp": 1753709785230,
     "user": {
      "displayName": "Meet Pujara",
      "userId": "14766160020466493026"
     },
     "user_tz": -330
    },
    "id": "uk-_-8viJ5oi"
   },
   "outputs": [],
   "source": [
    "stop_words = set(stopwords.words('english'))"
   ]
  },
  {
   "cell_type": "code",
   "execution_count": 61,
   "metadata": {
    "executionInfo": {
     "elapsed": 1552,
     "status": "ok",
     "timestamp": 1753709786775,
     "user": {
      "displayName": "Meet Pujara",
      "userId": "14766160020466493026"
     },
     "user_tz": -330
    },
    "id": "om4mnYVGK04P"
   },
   "outputs": [],
   "source": [
    "def remove_stopwords(text):\n",
    "    words = word_tokenize(text.lower())\n",
    "    filtered_words = [word for word in words if word not in stop_words]\n",
    "    return ' '.join(filtered_words)\n",
    "\n",
    "df['text'] = df['text'].apply(remove_stopwords)"
   ]
  },
  {
   "cell_type": "code",
   "execution_count": 62,
   "metadata": {
    "colab": {
     "base_uri": "https://localhost:8080/"
    },
    "executionInfo": {
     "elapsed": 114,
     "status": "ok",
     "timestamp": 1753709786886,
     "user": {
      "displayName": "Meet Pujara",
      "userId": "14766160020466493026"
     },
     "user_tz": -330
    },
    "id": "E7hKDyhqR7Gd",
    "outputId": "e41fc685-ffd3-4986-ed1f-a219496450d1"
   },
   "outputs": [
    {
     "name": "stdout",
     "output_type": "stream",
     "text": [
      "Vocabulary: ['best' 'great' 'is' 'is great' 'is the' 'is the best' 'like' 'like pizza'\n",
      " 'love' 'love pasta' 'pasta' 'pasta is' 'pasta is great' 'pizza'\n",
      " 'pizza is' 'pizza is the' 'the' 'the best']\n",
      "\n",
      "BoW Matrix:\n",
      " [[0 0 0 0 0 0 1 1 0 0 0 0 0 1 0 0 0 0]\n",
      " [1 0 1 0 1 1 0 0 0 0 0 0 0 1 1 1 1 1]\n",
      " [0 0 0 0 0 0 0 0 1 1 1 0 0 0 0 0 0 0]\n",
      " [0 1 1 1 0 0 0 0 0 0 1 1 1 0 0 0 0 0]]\n"
     ]
    }
   ],
   "source": [
    "documents = [\n",
    "    \"I Like Pizza\",\n",
    "    \"Pizza is the best\",\n",
    "    \"I Love Pasta\",\n",
    "    \"Pasta is great\"\n",
    "]\n",
    "\n",
    "vectorizer = CountVectorizer(ngram_range=(1,3))\n",
    "\n",
    "X = vectorizer.fit_transform(documents)\n",
    "\n",
    "print(\"Vocabulary:\",vectorizer.get_feature_names_out())\n",
    "print(\"\\nBoW Matrix:\\n\",X.toarray())"
   ]
  },
  {
   "cell_type": "code",
   "execution_count": 63,
   "metadata": {
    "colab": {
     "base_uri": "https://localhost:8080/"
    },
    "executionInfo": {
     "elapsed": 44,
     "status": "ok",
     "timestamp": 1753709786889,
     "user": {
      "displayName": "Meet Pujara",
      "userId": "14766160020466493026"
     },
     "user_tz": -330
    },
    "id": "iY-xQrz3Dw6X",
    "outputId": "69bb33c7-29e4-45e7-a4bd-b39280af469c"
   },
   "outputs": [
    {
     "name": "stdout",
     "output_type": "stream",
     "text": [
      "Vocabulary: ['best' 'great' 'is' 'like' 'love' 'pasta' 'pizza' 'the']\n",
      "Tfid Matrix: [[0.         0.         0.         0.78528828 0.         0.\n",
      "  0.6191303  0.        ]\n",
      " [0.55528266 0.         0.43779123 0.         0.         0.\n",
      "  0.43779123 0.55528266]\n",
      " [0.         0.         0.         0.         0.78528828 0.6191303\n",
      "  0.         0.        ]\n",
      " [0.         0.66767854 0.52640543 0.         0.         0.52640543\n",
      "  0.         0.        ]]\n"
     ]
    }
   ],
   "source": [
    "documents = [\n",
    "    \"I Like Pizza\",\n",
    "    \"Pizza is the best\",\n",
    "    \"I Love Pasta\",\n",
    "    \"Pasta is great\"\n",
    "]\n",
    "\n",
    "vectorizer = TfidfVectorizer()\n",
    "\n",
    "X = vectorizer.fit_transform(documents)\n",
    "\n",
    "print(\"Vocabulary:\",vectorizer.get_feature_names_out())\n",
    "print(\"Tfid Matrix:\",X.toarray())"
   ]
  },
  {
   "cell_type": "code",
   "execution_count": 64,
   "metadata": {
    "executionInfo": {
     "elapsed": 32,
     "status": "ok",
     "timestamp": 1753709786890,
     "user": {
      "displayName": "Meet Pujara",
      "userId": "14766160020466493026"
     },
     "user_tz": -330
    },
    "id": "qR4tEdJwG0GB"
   },
   "outputs": [],
   "source": [
    "X_train, X_test, y_train, y_test = train_test_split(df['text'], df['emotion'], test_size=0.20, random_state=42)"
   ]
  },
  {
   "cell_type": "code",
   "execution_count": 65,
   "metadata": {
    "executionInfo": {
     "elapsed": 335,
     "status": "ok",
     "timestamp": 1753709787219,
     "user": {
      "displayName": "Meet Pujara",
      "userId": "14766160020466493026"
     },
     "user_tz": -330
    },
    "id": "abt9imh2H7qa"
   },
   "outputs": [],
   "source": [
    "bow_vectorizer = CountVectorizer()\n",
    "\n",
    "x_train_bow = bow_vectorizer.fit_transform(X_train)\n",
    "x_test_bow = bow_vectorizer.transform(X_test)"
   ]
  },
  {
   "cell_type": "code",
   "execution_count": 66,
   "metadata": {
    "executionInfo": {
     "elapsed": 54,
     "status": "ok",
     "timestamp": 1753709787278,
     "user": {
      "displayName": "Meet Pujara",
      "userId": "14766160020466493026"
     },
     "user_tz": -330
    },
    "id": "mXRtfiIOJPz_"
   },
   "outputs": [],
   "source": [
    "model = {\n",
    "    'NB': MultinomialNB(),\n",
    "    'LR': LogisticRegression(),\n",
    "    'SVM': SVC()\n",
    "}"
   ]
  },
  {
   "cell_type": "code",
   "execution_count": 67,
   "metadata": {
    "executionInfo": {
     "elapsed": 10,
     "status": "ok",
     "timestamp": 1753709787282,
     "user": {
      "displayName": "Meet Pujara",
      "userId": "14766160020466493026"
     },
     "user_tz": -330
    },
    "id": "D4ta7jMjM-JS"
   },
   "outputs": [],
   "source": [
    "result_bow = []"
   ]
  },
  {
   "cell_type": "code",
   "execution_count": 68,
   "metadata": {
    "id": "ezYG-8eRLHWH"
   },
   "outputs": [],
   "source": [
    "for name, mdl in model.items():\n",
    "  mdl.fit(x_train_bow, y_train)\n",
    "  y_prediction = mdl.predict(x_test_bow)\n",
    "  acc = accuracy_score(y_test,y_prediction)\n",
    "  result_bow.append({\n",
    "        'model' : name,\n",
    "        'Accuracy': round(acc,4),\n",
    "    })"
   ]
  },
  {
   "cell_type": "code",
   "execution_count": 69,
   "metadata": {
    "id": "o8UiSJ1jLZ1t"
   },
   "outputs": [
    {
     "name": "stdout",
     "output_type": "stream",
     "text": [
      "\n",
      "[{'model': 'NB', 'Accuracy': 0.7678}, {'model': 'LR', 'Accuracy': 0.8888}, {'model': 'SVM', 'Accuracy': 0.8225}]\n"
     ]
    }
   ],
   "source": [
    "print(f\"\\n{result_bow}\")"
   ]
  },
  {
   "cell_type": "code",
   "execution_count": 70,
   "metadata": {
    "id": "SIOXssOqIdMp"
   },
   "outputs": [],
   "source": [
    "tfid_vectorizer = TfidfVectorizer()\n",
    "\n",
    "x_train_tfid = tfid_vectorizer.fit_transform(X_train)\n",
    "x_test_tfid = tfid_vectorizer.transform(X_test)"
   ]
  },
  {
   "cell_type": "code",
   "execution_count": 71,
   "metadata": {
    "id": "L6_4Byj-N_TL"
   },
   "outputs": [],
   "source": [
    "result_tfid = []"
   ]
  },
  {
   "cell_type": "code",
   "execution_count": 72,
   "metadata": {
    "id": "XatNOcGYOsNz"
   },
   "outputs": [],
   "source": [
    "for name, mdl in model.items():\n",
    "  mdl.fit(x_train_tfid, y_train)\n",
    "  y_prediction = mdl.predict(x_test_tfid)\n",
    "  acc = accuracy_score(y_test,y_prediction)\n",
    "  result_tfid.append({\n",
    "        'model' : name,\n",
    "        'Accuracy': round(acc,4),\n",
    "    })"
   ]
  },
  {
   "cell_type": "code",
   "execution_count": 73,
   "metadata": {
    "id": "gqwYpbslOx-7"
   },
   "outputs": [
    {
     "name": "stdout",
     "output_type": "stream",
     "text": [
      "\n",
      "[{'model': 'NB', 'Accuracy': 0.6609}, {'model': 'LR', 'Accuracy': 0.8616}, {'model': 'SVM', 'Accuracy': 0.8512}]\n"
     ]
    }
   ],
   "source": [
    "print(f\"\\n{result_tfid}\")"
   ]
  },
  {
   "cell_type": "code",
   "execution_count": 74,
   "metadata": {
    "id": "b2kpn6NhP1k1"
   },
   "outputs": [
    {
     "data": {
      "text/plain": [
       "['tfidf_vectorizer.pkl']"
      ]
     },
     "execution_count": 74,
     "metadata": {},
     "output_type": "execute_result"
    }
   ],
   "source": [
    "joblib.dump(model['LR'], 'emotion_model.pkl')\n",
    "joblib.dump(tfid_vectorizer, 'tfidf_vectorizer.pkl')"
   ]
  }
 ],
 "metadata": {
  "colab": {
   "authorship_tag": "ABX9TyMXIG9En+F2TWp0t3yEr2cD",
   "provenance": []
  },
  "kernelspec": {
   "display_name": "myenv",
   "language": "python",
   "name": "python3"
  },
  "language_info": {
   "codemirror_mode": {
    "name": "ipython",
    "version": 3
   },
   "file_extension": ".py",
   "mimetype": "text/x-python",
   "name": "python",
   "nbconvert_exporter": "python",
   "pygments_lexer": "ipython3",
   "version": "3.12.6"
  }
 },
 "nbformat": 4,
 "nbformat_minor": 0
}
